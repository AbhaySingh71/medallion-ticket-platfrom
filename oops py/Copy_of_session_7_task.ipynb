{
  "nbformat": 4,
  "nbformat_minor": 0,
  "metadata": {
    "colab": {
      "provenance": [],
      "include_colab_link": true
    },
    "kernelspec": {
      "name": "python3",
      "display_name": "Python 3"
    },
    "language_info": {
      "name": "python"
    }
  },
  "cells": [
    {
      "cell_type": "markdown",
      "metadata": {
        "id": "view-in-github",
        "colab_type": "text"
      },
      "source": [
        "<a href=\"https://colab.research.google.com/github/Capedcrusaders/medallion-ticket-platfrom/blob/main/oops%20py/Copy_of_session_7_task.ipynb\" target=\"_parent\"><img src=\"https://colab.research.google.com/assets/colab-badge.svg\" alt=\"Open In Colab\"/></a>"
      ]
    },
    {
      "cell_type": "markdown",
      "source": [
        "##`Q-1:` Rectangle Class\n",
        "1. Write a Rectangle class in Python language, allowing you to build a rectangle with length and width attributes.\n",
        "\n",
        "2. Create a Perimeter() method to calculate the perimeter of the rectangle and a Area() method to calculate the area of ​​the rectangle.\n",
        "\n",
        "3. Create a method display() that display the length, width, perimeter and area of an object created using an instantiation on rectangle class."
      ],
      "metadata": {
        "id": "FyUJ3PRAsPr4"
      }
    },
    {
      "cell_type": "markdown",
      "source": [
        "Eg.\n",
        "After making above classes and methods, on executing below code:-\n",
        "```\n",
        "my_rectangle = Rectangle(3 , 4)\n",
        "my_rectangle.display()\n",
        "```\n",
        "\n",
        "`Output:`\n",
        "```\n",
        "The length of rectangle is:  3\n",
        "The width of rectangle is:  4\n",
        "The perimeter of rectangle is:  14\n",
        "The area of rectangle is:  12\n",
        "```\n"
      ],
      "metadata": {
        "id": "GxUtOqJfssFK"
      }
    },
    {
      "cell_type": "code",
      "source": [
        "class rectangle:\n",
        "\n",
        "     def __init__(self,l,b):\n",
        "         self.length=l\n",
        "         self.breadth=b\n",
        "         print(\"the length of rectangle:\",self.length)\n",
        "         print(\"the breadth of rectangle:\",self.breadth)\n",
        "\n",
        "     def perimeter(self):\n",
        "         new_peri=2 * (self.length+self.breadth)\n",
        "         return print(\"the perimeter of rectangle is\",new_peri)\n",
        "\n",
        "     def area(self):\n",
        "        new_area=self.length*self.breadth\n",
        "        return print(\"the area is :\",new_area)\n",
        "\n",
        "rec = rectangle(3, 4)\n",
        "rec.perimeter()\n",
        "rec.area()"
      ],
      "metadata": {
        "id": "92_QT-Uj6NBg",
        "outputId": "61a8ef9d-d35c-4ef9-b520-d73046161ae5",
        "colab": {
          "base_uri": "https://localhost:8080/"
        }
      },
      "execution_count": null,
      "outputs": [
        {
          "output_type": "stream",
          "name": "stdout",
          "text": [
            "the length of rectangle: 3\n",
            "the breadth of rectangle: 4\n",
            "the perimeter of rectangle is 14\n",
            "the area is : 12\n"
          ]
        }
      ]
    },
    {
      "cell_type": "markdown",
      "source": [
        "##`Q-2: Bank Class`\n",
        "\n",
        "1. Create a Python class called `BankAccount` which represents a bank account, having as attributes: `accountNumber` (numeric type), `name` (name of the account owner as string type), `balance`.\n",
        "2. Create a constructor with parameters: `accountNumber, name, balance`.\n",
        "3. Create a `Deposit()` method which manages the deposit actions.\n",
        "4. Create a `Withdrawal()` method  which manages withdrawals actions.\n",
        "5. Create an `bankFees()` method to apply the bank fees with a percentage of 5% of the balance account.\n",
        "6. Create a `display()` method to display account details.\n",
        "Give the complete code for the  BankAccount class."
      ],
      "metadata": {
        "id": "r_GxrS0Vrdom"
      }
    },
    {
      "cell_type": "markdown",
      "source": [
        "Eg.\n",
        "After making above classes and methods, on executing below code:-\n",
        "```\n",
        "newAccount = BankAccount(2178514584, \"Mandy\" , 2800)\n",
        "\n",
        "newAccount.Withdrawal(700)\n",
        "\n",
        "newAccount.Deposit(1000)\n",
        "\n",
        "newAccount.display()\n",
        "```\n",
        "\n",
        "`Output:`\n",
        "```\n",
        "Account Number :  2178514584\n",
        "Account Name :  Mandy\n",
        "Account Balance :  3100 ₹\n",
        "```"
      ],
      "metadata": {
        "id": "qvVkOUJgvTV_"
      }
    },
    {
      "cell_type": "code",
      "source": [
        "class Bankaccount:\n",
        "\n",
        "    def __init__(self, accountnumber, name, balance):\n",
        "        self.accountnumber = accountnumber\n",
        "        self.name = name\n",
        "        self.balance = balance\n",
        "\n",
        "    def deposit(self, amount):\n",
        "        self.balance = self.balance + amount\n",
        "\n",
        "    def withdrawal(self, amount):\n",
        "        if self.balance >= amount:\n",
        "            self.balance -= amount\n",
        "        else:\n",
        "            print(\"chal be chal ya se nikal\")\n",
        "\n",
        "    def bankfees(self):\n",
        "        self.balance = self.balance * 5 / 100\n",
        "\n",
        "    def display(self):\n",
        "        print(\"Account Number : \", self.accountnumber)\n",
        "        print(\"Account Name : \", self.name)\n",
        "        print(\"Account Balance : \", self.balance)\n",
        "\n",
        "\n",
        "newAccount = Bankaccount(2178514584, \"Mandy\", 2800)\n",
        "\n",
        "newAccount.withdrawal(700)\n",
        "\n",
        "newAccount.deposit(1000)\n",
        "\n",
        "newAccount.display()"
      ],
      "metadata": {
        "id": "fUQOmQyA6YDR",
        "outputId": "dceffd31-063d-42b5-e1b4-0edec8d4c1ca",
        "colab": {
          "base_uri": "https://localhost:8080/"
        }
      },
      "execution_count": null,
      "outputs": [
        {
          "output_type": "stream",
          "name": "stdout",
          "text": [
            "Account Number :  2178514584\n",
            "Account Name :  Mandy\n",
            "Account Balance :  3100\n"
          ]
        }
      ]
    },
    {
      "cell_type": "markdown",
      "source": [
        "##`Q-3:Computation class`\n",
        "\n",
        "1. Create a `Computation` class with a default constructor (without parameters) allowing to perform various calculations on integers numbers.\n",
        "2. Create a method called `Factorial()` which allows to calculate the factorial of an integer n. Integer n as parameter for this method\n",
        "\n",
        "3. Create a method called `naturalSum()` allowing to calculate the sum of the first n integers 1 + 2 + 3 + .. + n. Integer n as parameter for this method.\n",
        "\n",
        "4. Create a method called `testPrime()` in  the Calculation class to test the primality of a given integer n, n is Prime or Not? Integer n as parameter for this method.\n",
        "\n",
        "5. Create  a method called `testPrims()` allowing to test if two numbers are prime between them. Two integers are prime to one another if they have only `1` as their common divisor. Eg. 4 and 9 are prime to each other.\n",
        "\n",
        "5. Create a `tableMult()` method which creates and displays the multiplication table of a given integer. Then create an `allTablesMult()` method to display all the integer multiplication tables 1, 2, 3, ..., 9.\n",
        "\n",
        "6. Create a static `listDiv()` method that gets all the divisors of a given integer on new list called  Ldiv. Create another `listDivPrim()` method that gets all the prime divisors of a given integer."
      ],
      "metadata": {
        "id": "QovcQAZTrgGU"
      }
    },
    {
      "cell_type": "code",
      "source": [
        "# write your code here"
      ],
      "metadata": {
        "id": "YEkPH70l6Z-o"
      },
      "execution_count": null,
      "outputs": []
    },
    {
      "cell_type": "markdown",
      "source": [
        "##`Q-4`: Build flashcard using class in Python.\n",
        "\n",
        "Build a flashcard using class in python. A flashcard is a card having information on both sides, which can be used as an aid in memoization. Flashcards usually have a question on one side and an answer on the other.\n",
        "\n",
        "**Example 1:**\n",
        "\n",
        "Approach:\n",
        "\n",
        "- Create a class named FlashCard.\n",
        "- Initialize dictionary fruits using __init__() method. Here you have to define fruit name as key and it's color as value. E.g., {\"Banana\": \"yellow\", \"Strawberries\": \"pink\"}\n",
        "- Now randomly choose a pair from fruits by using _random_ module and store the key in variable _fruit_ and _value_ in variable color.\n",
        "- Now prompt the user to answer the color of the randomly chosen fruit.\n",
        "- If correct print correct else print wrong.\n",
        "\n",
        "Output:\n",
        "```bash\n",
        "welcome to fruit quiz\n",
        "What is the color of Strawberries\n",
        "pink\n",
        "Correct answer\n",
        "Enter 0, if you want to play again: 0\n",
        "What is the color of watermelon\n",
        "green\n",
        "Correct answer\n",
        "Enter 0, if you want to play again: 1\n",
        "```"
      ],
      "metadata": {
        "id": "0yn23_oEriXa"
      }
    },
    {
      "cell_type": "code",
      "source": [
        "class FruitQuiz:\n",
        "  \"\"\"\n",
        "  A simple fruit quiz game using OOPs concepts.\n",
        "  \"\"\"\n",
        "\n",
        "  def __init__(self):\n",
        "    self.questions = {\n",
        "      \"What is the color of Strawberries?\": \"pink\",\n",
        "      \"What is the color of watermelon?\": \"green\",\n",
        "    }\n",
        "    self.score = 0\n",
        "\n",
        "  def play(self):\n",
        "    \"\"\"\n",
        "    Plays the fruit quiz game.\n",
        "    \"\"\"\n",
        "\n",
        "    for question, answer in self.questions.items():\n",
        "      user_answer = input(question + \"\\n\")\n",
        "      if user_answer.lower() == answer.lower():\n",
        "        print(\"Correct answer\")\n",
        "        self.score += 1\n",
        "      else:\n",
        "        print(\"Wrong answer\")\n",
        "\n",
        "    print(f\"You scored {self.score} out of {len(self.questions)}\")\n",
        "\n",
        "    play_again = input(\"Enter 0 if you want to play again: \")\n",
        "    if play_again == \"0\":\n",
        "      self.play()\n",
        "\n",
        "# Create an instance of the FruitQuiz class and play the game\n",
        "fruit_quiz = FruitQuiz()\n",
        "fruit_quiz.play()"
      ],
      "metadata": {
        "id": "g39Zx8bHwlSA",
        "outputId": "285b2d03-299f-431b-f8a6-02f33c00b287",
        "colab": {
          "base_uri": "https://localhost:8080/"
        }
      },
      "execution_count": null,
      "outputs": [
        {
          "output_type": "stream",
          "name": "stdout",
          "text": [
            "What is the color of Strawberries?\n",
            "pink\n",
            "Correct answer\n"
          ]
        }
      ]
    },
    {
      "cell_type": "markdown",
      "source": [
        "## `Q-5:` Problem 5 based on OOP Python.\n",
        "\n",
        "TechWorld, a technology training center, wants to allocate courses for instructors. An instructor is identified by name, technology skills, experience and average feedback. An instructor is allocated a course, if he/she satisfies the below two conditions:\n",
        "- eligibility criteria:\n",
        "    - if experience is more than 3 years, average feedback should be 4.5 or more\n",
        "    - if experience is 3 years or less, average feedback should be 4 or more\n",
        "- he/she should posses the technology skill for the course\n",
        "\n",
        "Identify the class name and attributes to represent instructors. Write a Python program to implement the class chosen with its attributes and methods.\n",
        "\n",
        "**Note:**\n",
        "- Consider all instance variables to be private and methods to be public.\n",
        "- An instructor may have multiple technology skills, so consider instance variable, technology_skill to be a list.\n",
        "- *check_eligibility()*: Return true if eligibility criteria is satisfied by the instructor. Else, return false\n",
        "- *allocate_course(technology)*: Return true if the course which requires the given technology can be allocated to the instructor. Else, return false.\n",
        "\n",
        "Represent a few objects of the class, initialize instance variables using setter methods, invoke\n",
        "appropriate methods and test your program."
      ],
      "metadata": {
        "id": "GN2r0jbRewYr"
      }
    },
    {
      "cell_type": "code",
      "source": [
        "# write your code here"
      ],
      "metadata": {
        "id": "pdMFuVFnlvKL"
      },
      "execution_count": null,
      "outputs": []
    }
  ]
}